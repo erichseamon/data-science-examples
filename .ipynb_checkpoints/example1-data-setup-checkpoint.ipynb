{
 "cells": [
  {
   "cell_type": "code",
   "execution_count": 2,
   "metadata": {
    "collapsed": false
   },
   "outputs": [
    {
     "name": "stderr",
     "output_type": "stream",
     "text": [
      "ERROR: Line magic function `%R` not found.\n"
     ]
    },
    {
     "ename": "NameError",
     "evalue": "name 'library' is not defined",
     "output_type": "error",
     "traceback": [
      "\u001b[1;31m---------------------------------------------------------------------------\u001b[0m",
      "\u001b[1;31mNameError\u001b[0m                                 Traceback (most recent call last)",
      "\u001b[1;32m<ipython-input-2-ee13b3177322>\u001b[0m in \u001b[0;36m<module>\u001b[1;34m()\u001b[0m\n\u001b[0;32m     18\u001b[0m \u001b[1;31m#--Setting the working directory an d clearing the workspace-----------#\u001b[0m\u001b[1;33m\u001b[0m\u001b[1;33m\u001b[0m\u001b[0m\n\u001b[0;32m     19\u001b[0m \u001b[1;33m\u001b[0m\u001b[0m\n\u001b[1;32m---> 20\u001b[1;33m \u001b[0mlibrary\u001b[0m\u001b[1;33m(\u001b[0m\u001b[1;34m\"ncdf\"\u001b[0m\u001b[1;33m)\u001b[0m\u001b[1;33m\u001b[0m\u001b[0m\n\u001b[0m\u001b[0;32m     21\u001b[0m \u001b[0mlibrary\u001b[0m\u001b[1;33m(\u001b[0m\u001b[1;34m\"raster\"\u001b[0m\u001b[1;33m)\u001b[0m\u001b[1;33m\u001b[0m\u001b[0m\n\u001b[0;32m     22\u001b[0m \u001b[0mlibrary\u001b[0m\u001b[1;33m(\u001b[0m\u001b[1;34m\"sp\"\u001b[0m\u001b[1;33m)\u001b[0m\u001b[1;33m\u001b[0m\u001b[0m\n",
      "\u001b[1;31mNameError\u001b[0m: name 'library' is not defined"
     ]
    }
   ],
   "source": [
    "import rpy2\n",
    "%load_ext rpy2.ipython\n",
    "%R\n",
    "#------------------------------------------------------------------------#\n",
    "# TITLE:        example1-data-setup.R\n",
    "#\n",
    "# AUTHOR:       Erich Seamon\n",
    "#\n",
    "# INSTITUITON:  College of Natural Resources\n",
    "#               University of Idaho\n",
    "#\n",
    "# DATE:         August 12, 2015\n",
    "#\n",
    "# STAGE:        \n",
    "#\n",
    "# COMMENTS:     This is the first script (Data Setup) as part of the \n",
    "#               data science/analysis Example 1 code, from the \n",
    "#               University of Idaho Data Science Laboratory.\n",
    "#\n",
    "#--Setting the working directory an d clearing the workspace-----------#\n",
    "\n",
    "library(\"ncdf\")\n",
    "library(\"raster\")\n",
    "library(\"sp\")\n",
    "library(\"rgeos\")\n",
    "library(\"rgdal\")\n",
    "library(\"proj4\")\n",
    "library(\"RNetCDF\")\n",
    "library(\"ncdf4\")\n",
    "\n",
    "\n",
    "#--Data Loading.  Here we are loading data into variables\n",
    "#--within R.  We use the ncdf4 library to access the nc_open\n",
    "#--function - which lets us load our data using a url that \n",
    "#--is opendap compliant.  Many weather, climate modeling,\n",
    "#--oceanographic, and other raster based data modesl use\n",
    "#--opendap web services to expose their data.  This url\n",
    "#--is where you would enter in your opendap url with any\n",
    "#--additional filtering of the data.  Here we are loading\n",
    "#--max temperature information for 2014.\n",
    "\n",
    "maxtemp <- nc_open('http://reacchpna.org/thredds/dodsC/agg_met_tmmx_1979_2015_WUSA.nc?lon[0:1:1385],lat[0:1:584],daily_maximum_temperature[0:1:0][0:1:0][0:1:0],day[0:1:10]')\n",
    "\n",
    "#--Here we use the ncvar_get call to access the data from the\n",
    "#--previously loaded max temperature file.\n",
    "\n",
    "maxtemp_var <- ncvar_get(maxtemp, 'daily_maximum_temperature', start=c(1,1,1), count=c(-1,-1,1)) \n",
    "\n",
    "# turn the file into a raster\n",
    "\n",
    "maxtempraster <- (raster(maxtemp_var)) \n",
    "\n",
    "\n",
    "# set the exent of the raster\n",
    "\n",
    "xtent <- extent(25.1562, 52.8438, -124.5938, -67.0312) \n",
    "extent(maxtempraster) <- xtent\n",
    "\n",
    "# set the projection of the raster\n",
    "\n",
    "crs(maxtempraster) <- \"+proj=longlat +datum=WGS84 +ellps=WGS84 +towgs84=0,0,0\" \n",
    "maxtempraster <- setExtent(maxtempraster, xtent, keepres=TRUE)\n",
    "\n",
    "# transpose the raster \n",
    "\n",
    "maxtempraster_transposed <- t(maxtempraster) \n",
    "\n",
    "#--plot the data\n",
    "\n",
    "plot(maxtempraster_transposed) \n",
    "hist(maxtempraster_transposed)\n",
    "\n"
   ]
  }
 ],
 "metadata": {
  "kernelspec": {
   "display_name": "Python 2",
   "language": "python",
   "name": "python2"
  },
  "language_info": {
   "codemirror_mode": {
    "name": "ipython",
    "version": 2
   },
   "file_extension": ".py",
   "mimetype": "text/x-python",
   "name": "python",
   "nbconvert_exporter": "python",
   "pygments_lexer": "ipython2",
   "version": "2.7.10"
  }
 },
 "nbformat": 4,
 "nbformat_minor": 0
}
